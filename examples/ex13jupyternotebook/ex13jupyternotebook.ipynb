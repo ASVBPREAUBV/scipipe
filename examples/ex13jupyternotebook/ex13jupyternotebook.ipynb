{
 "cells": [
  {
   "cell_type": "markdown",
   "metadata": {},
   "source": [
    "NB: To run this file, first install the Jupyter notebook, and the [Golang kernel](https://github.com/gophergala2016/gophernotes)"
   ]
  },
  {
   "cell_type": "markdown",
   "metadata": {},
   "source": [
    "# Imports"
   ]
  },
  {
   "cell_type": "code",
   "execution_count": 14,
   "metadata": {
    "collapsed": true
   },
   "outputs": [],
   "source": [
    ":import \"fmt\""
   ]
  },
  {
   "cell_type": "code",
   "execution_count": 15,
   "metadata": {
    "collapsed": true
   },
   "outputs": [],
   "source": [
    ":import \"github.com/scipipe/scipipe\""
   ]
  },
  {
   "cell_type": "markdown",
   "metadata": {},
   "source": [
    "# Code"
   ]
  },
  {
   "cell_type": "code",
   "execution_count": 16,
   "metadata": {
    "collapsed": false,
    "scrolled": true
   },
   "outputs": [
    {
     "data": {
      "text/plain": [
       "AUDIT   2016/04/20 17:41:57 Task:foowriter    Executing command: echo foo > foo.txt.tmp\n",
       "AUDIT   2016/04/20 17:41:57 Task:foo2bar      Executing command: sed 's/foo/bar/g' foo.txt > foo.txt.bar.txt.tmp\n"
      ]
     },
     "execution_count": 16,
     "metadata": {},
     "output_type": "execute_result"
    }
   ],
   "source": [
    "// Initiate tasks\n",
    "\n",
    "foowriter := scipipe.Shell(\"foowriter\", \"echo foo > {o:foo}\")\n",
    "foowriter.SetPathFormatStatic(\"foo\", \"foo.txt\")\n",
    "\n",
    "foo2bar := scipipe.Shell(\"foo2bar\", \"sed 's/foo/bar/g' {i:foo} > {o:bar}\")\n",
    "foo2bar.SetPathFormatExtend(\"foo\", \"bar\", \".bar.txt\")\n",
    "\n",
    "sink := scipipe.NewSink()\n",
    "\n",
    "// Connect network\n",
    "\n",
    "foo2bar.InPorts[\"foo\"] = foowriter.OutPorts[\"foo\"]\n",
    "sink.In = foo2bar.OutPorts[\"bar\"]\n",
    "\n",
    "// Initialize pipeline runner and add processes\n",
    "\n",
    "piperun := scipipe.NewPipelineRunner()\n",
    "piperun.AddProcesses(foowriter, foo2bar, sink)\n",
    "\n",
    "// Run pipeline\n",
    "piperun.Run()"
   ]
  },
  {
   "cell_type": "code",
   "execution_count": null,
   "metadata": {
    "collapsed": true
   },
   "outputs": [],
   "source": []
  }
 ],
 "metadata": {
  "kernelspec": {
   "display_name": "Golang",
   "language": "go",
   "name": "gophernotes"
  },
  "language_info": {
   "name": "go"
  }
 },
 "nbformat": 4,
 "nbformat_minor": 0
}
