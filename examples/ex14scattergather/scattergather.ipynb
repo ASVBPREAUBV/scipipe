{
 "cells": [
  {
   "cell_type": "code",
   "execution_count": 2,
   "metadata": {
    "collapsed": true
   },
   "outputs": [],
   "source": [
    ":import \"github.com/samuell/scipipe\"\n",
    ":import \"fmt\""
   ]
  },
  {
   "cell_type": "code",
   "execution_count": 3,
   "metadata": {
    "collapsed": false
   },
   "outputs": [
    {
     "data": {
      "text/plain": [
       "AUDIT   2016/04/26 16:56:36 Task:wget         Executing command: wget ftp://ftp.ensembl.org/pub/release-84/fasta/homo_sapiens/dna/Homo_sapiens.GRCh38.dna.chromosome.Y.fa.gz -O chry.fa.gz.tmp\n",
       "AUDIT   2016/04/26 16:56:37 Task:ungzip       Executing command: gunzip -c chry.fa.gz > chry.fa.tmp\n",
       "AUDIT   2016/04/26 16:56:38 FileSplitter      Now processing input file  chry.fa ...\n",
       "AUDIT   2016/04/26 16:56:38 FileSplitter      Created split file chry.fa.split_1\n",
       "AUDIT   2016/04/26 16:56:38 Task:atcount      Executing command: cat chry.fa.split_1 | fold -w 1 | grep '[AT]' | wc -l | awk '{ print $1 }' > chry.fa.split_1.atcnt.tmp\n",
       "AUDIT   2016/04/26 16:56:38 Task:gccount      Executing command: cat chry.fa.split_1 | fold -w 1 | grep '[GC]' | wc -l | awk '{ print $1 }' > chry.fa.split_1.gccnt.tmp\n",
       "AUDIT   2016/04/26 16:56:38 FileSplitter      Created split file chry.fa.split_2\n",
       "AUDIT   2016/04/26 16:56:38 Task:atcount      Executing command: cat chry.fa.split_2 | fold -w 1 | grep '[AT]' | wc -l | awk '{ print $1 }' > chry.fa.split_2.atcnt.tmp\n",
       "AUDIT   2016/04/26 16:56:38 Task:gccount      Executing command: cat chry.fa.split_2 | fold -w 1 | grep '[GC]' | wc -l | awk '{ print $1 }' > chry.fa.split_2.gccnt.tmp\n",
       "AUDIT   2016/04/26 16:56:39 FileSplitter      Created split file chry.fa.split_3\n",
       "AUDIT   2016/04/26 16:56:39 Task:atcount      Executing command: cat chry.fa.split_3 | fold -w 1 | grep '[AT]' | wc -l | awk '{ print $1 }' > chry.fa.split_3.atcnt.tmp\n",
       "AUDIT   2016/04/26 16:56:39 Task:gccount      Executing command: cat chry.fa.split_3 | fold -w 1 | grep '[GC]' | wc -l | awk '{ print $1 }' > chry.fa.split_3.gccnt.tmp\n",
       "AUDIT   2016/04/26 16:56:39 FileSplitter      Created split file chry.fa.split_4\n",
       "AUDIT   2016/04/26 16:56:39 Task:gccount      Executing command: cat chry.fa.split_4 | fold -w 1 | grep '[GC]' | wc -l | awk '{ print $1 }' > chry.fa.split_4.gccnt.tmp\n",
       "AUDIT   2016/04/26 16:56:39 Task:atcount      Executing command: cat chry.fa.split_4 | fold -w 1 | grep '[AT]' | wc -l | awk '{ print $1 }' > chry.fa.split_4.atcnt.tmp\n",
       "AUDIT   2016/04/26 16:56:40 FileSplitter      Created split file chry.fa.split_5\n",
       "AUDIT   2016/04/26 16:56:40 Task:atcount      Executing command: cat chry.fa.split_5 | fold -w 1 | grep '[AT]' | wc -l | awk '{ print $1 }' > chry.fa.split_5.atcnt.tmp\n",
       "AUDIT   2016/04/26 16:56:40 Task:gccount      Executing command: cat chry.fa.split_5 | fold -w 1 | grep '[GC]' | wc -l | awk '{ print $1 }' > chry.fa.split_5.gccnt.tmp\n",
       "AUDIT   2016/04/26 16:56:40 FileSplitter      Created split file chry.fa.split_6\n",
       "AUDIT   2016/04/26 16:56:40 Task:atcount      Executing command: cat chry.fa.split_6 | fold -w 1 | grep '[AT]' | wc -l | awk '{ print $1 }' > chry.fa.split_6.atcnt.tmp\n",
       "AUDIT   2016/04/26 16:56:40 Task:gccount      Executing command: cat chry.fa.split_6 | fold -w 1 | grep '[GC]' | wc -l | awk '{ print $1 }' > chry.fa.split_6.gccnt.tmp\n",
       "AUDIT   2016/04/26 16:56:41 FileSplitter      Created split file chry.fa.split_7\n",
       "AUDIT   2016/04/26 16:56:41 Task:atcount      Executing command: cat chry.fa.split_7 | fold -w 1 | grep '[AT]' | wc -l | awk '{ print $1 }' > chry.fa.split_7.atcnt.tmp\n",
       "AUDIT   2016/04/26 16:56:41 Task:gccount      Executing command: cat chry.fa.split_7 | fold -w 1 | grep '[GC]' | wc -l | awk '{ print $1 }' > chry.fa.split_7.gccnt.tmp\n",
       "AUDIT   2016/04/26 16:56:41 FileSplitter      Created split file chry.fa.split_8\n",
       "AUDIT   2016/04/26 16:56:41 Task:atcount      Executing command: cat chry.fa.split_8 | fold -w 1 | grep '[AT]' | wc -l | awk '{ print $1 }' > chry.fa.split_8.atcnt.tmp\n",
       "AUDIT   2016/04/26 16:56:41 Task:gccount      Executing command: cat chry.fa.split_8 | fold -w 1 | grep '[GC]' | wc -l | awk '{ print $1 }' > chry.fa.split_8.gccnt.tmp\n",
       "AUDIT   2016/04/26 16:56:42 FileSplitter      Created split file chry.fa.split_9\n",
       "AUDIT   2016/04/26 16:56:42 Task:atcount      Executing command: cat chry.fa.split_9 | fold -w 1 | grep '[AT]' | wc -l | awk '{ print $1 }' > chry.fa.split_9.atcnt.tmp\n",
       "AUDIT   2016/04/26 16:56:42 Task:gccount      Executing command: cat chry.fa.split_9 | fold -w 1 | grep '[GC]' | wc -l | awk '{ print $1 }' > chry.fa.split_9.gccnt.tmp\n",
       "AUDIT   2016/04/26 16:56:42 FileSplitter      Created split file chry.fa.split_10\n",
       "AUDIT   2016/04/26 16:56:42 Task:gccount      Executing command: cat chry.fa.split_10 | fold -w 1 | grep '[GC]' | wc -l | awk '{ print $1 }' > chry.fa.split_10.gccnt.tmp\n",
       "AUDIT   2016/04/26 16:56:42 Task:atcount      Executing command: cat chry.fa.split_10 | fold -w 1 | grep '[AT]' | wc -l | awk '{ print $1 }' > chry.fa.split_10.atcnt.tmp\n",
       "AUDIT   2016/04/26 16:56:42 Task:gcsum        Executing command: awk '{ SUM += $1 } END { print SUM }' gccounts.txt > gccounts.txt.sum.tmp\n",
       "AUDIT   2016/04/26 16:56:42 Task:atsum        Executing command: awk '{ SUM += $1 } END { print SUM }' atcounts.txt > atcounts.txt.sum.tmp\n",
       "AUDIT   2016/04/26 16:56:42 Task:gcratio      Executing command: gc=$(cat gccounts.txt.sum); at=$(cat atcounts.txt.sum); calc \"$gc/($gc+$at)\" > gcratio.txt.tmp\n"
      ]
     },
     "execution_count": 3,
     "metadata": {},
     "output_type": "execute_result"
    }
   ],
   "source": [
    "// === INITIALIZE TASKS =======================================================================\n",
    "\n",
    "// Download a zipped Chromosome Y fasta file\n",
    "fastaURL := \"ftp://ftp.ensembl.org/pub/release-84/fasta/homo_sapiens/dna/Homo_sapiens.GRCh38.dna.chromosome.Y.fa.gz\"\n",
    "wget := scipipe.Shell(\"wget\", \"wget \"+fastaURL+\" -O {o:chry_zipped}\")\n",
    "wget.SetPathFormatStatic(\"chry_zipped\", \"chry.fa.gz\")\n",
    "\n",
    "// Ungzip the fasta file\n",
    "unzip := scipipe.Shell(\"ungzip\", \"gunzip -c {i:gzipped} > {o:ungzipped}\")\n",
    "unzip.SetPathFormatReplace(\"gzipped\", \"ungzipped\", \".gz\", \"\")\n",
    "\n",
    "// Split the fasta file in to parts with 100000 lines in each\n",
    "linesPerSplit := 100000\n",
    "split := scipipe.NewFileSplitter(linesPerSplit)\n",
    "\n",
    "// Create a 2-way multiplexer that can be used to provide the same\n",
    "// file target to two downstream processes\n",
    "dupl := scipipe.NewDuplicator()\n",
    "\n",
    "// Count GC & AT characters in the fasta file\n",
    "charCountCommand := \"cat {i:infile} | fold -w 1 | grep '[%s]' | wc -l | awk '{ print $1 }' > {o:%s}\"\n",
    "gccnt := scipipe.Shell(\"gccount\", fmt.Sprintf(charCountCommand, \"GC\", \"gccount\"))\n",
    "gccnt.SetPathFormatExtend(\"infile\", \"gccount\", \".gccnt\")\n",
    "atcnt := scipipe.Shell(\"atcount\", fmt.Sprintf(charCountCommand, \"AT\", \"atcount\"))\n",
    "atcnt.SetPathFormatExtend(\"infile\", \"atcount\", \".atcnt\")\n",
    "\n",
    "// Concatenate GC & AT counts\n",
    "gccat := scipipe.NewConcatenator(\"gccounts.txt\")\n",
    "atcat := scipipe.NewConcatenator(\"atcounts.txt\")\n",
    "\n",
    "// Sum up the GC & AT counts on the concatenated file\n",
    "sumCommand := \"awk '{ SUM += $1 } END { print SUM }' {i:in} > {o:sum}\"\n",
    "gcsum := scipipe.Shell(\"gcsum\", sumCommand)\n",
    "gcsum.SetPathFormatExtend(\"in\", \"sum\", \".sum\")\n",
    "atsum := scipipe.Shell(\"atsum\", sumCommand)\n",
    "atsum.SetPathFormatExtend(\"in\", \"sum\", \".sum\")\n",
    "\n",
    "// Finally, calculate the ratio between GC chars, vs. GC+AT chars\n",
    "gcrat := scipipe.Shell(\"gcratio\", \"gc=$(cat {i:gcsum}); at=$(cat {i:atsum}); calc \\\"$gc/($gc+$at)\\\" > {o:gcratio}\")\n",
    "gcrat.SetPathFormatStatic(\"gcratio\", \"gcratio.txt\")\n",
    "\n",
    "// A sink, to drive the network\n",
    "asink := scipipe.NewSink()\n",
    "\n",
    "// === CONNECT DEPENDENCIES ===================================================================\n",
    "\n",
    "unzip.InPorts[\"gzipped\"] = wget.OutPorts[\"chry_zipped\"]\n",
    "split.InFile = unzip.OutPorts[\"ungzipped\"]\n",
    "dupl.InFile = split.OutSplitFile\n",
    "gccnt.InPorts[\"infile\"] = dupl.OutFile1\n",
    "atcnt.InPorts[\"infile\"] = dupl.OutFile2\n",
    "gccat.In = gccnt.OutPorts[\"gccount\"]\n",
    "atcat.In = atcnt.OutPorts[\"atcount\"]\n",
    "gcsum.InPorts[\"in\"] = gccat.Out\n",
    "atsum.InPorts[\"in\"] = atcat.Out\n",
    "gcrat.InPorts[\"gcsum\"] = gcsum.OutPorts[\"sum\"]\n",
    "gcrat.InPorts[\"atsum\"] = atsum.OutPorts[\"sum\"]\n",
    "asink.In = gcrat.OutPorts[\"gcratio\"]\n",
    "\n",
    "// === RUN PIPELINE ===========================================================================\n",
    "\n",
    "piperunner := scipipe.NewPipelineRunner()\n",
    "piperunner.AddProcesses(wget, unzip, split, dupl, gccnt, atcnt, gccat, atcat, gcsum, atsum, gcrat, asink)\n",
    "piperunner.Run()"
   ]
  },
  {
   "cell_type": "code",
   "execution_count": null,
   "metadata": {
    "collapsed": true
   },
   "outputs": [],
   "source": []
  }
 ],
 "metadata": {
  "kernelspec": {
   "display_name": "Golang",
   "language": "go",
   "name": "gophernotes"
  },
  "language_info": {
   "name": "go"
  }
 },
 "nbformat": 4,
 "nbformat_minor": 0
}
