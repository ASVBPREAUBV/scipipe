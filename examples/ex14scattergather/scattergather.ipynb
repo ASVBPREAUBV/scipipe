{
 "cells": [
  {
   "cell_type": "code",
   "execution_count": 1,
   "metadata": {
    "collapsed": true
   },
   "outputs": [],
   "source": [
    ":import \"github.com/samuell/scipipe\""
   ]
  },
  {
   "cell_type": "code",
   "execution_count": 2,
   "metadata": {
    "collapsed": false
   },
   "outputs": [
    {
     "data": {
      "text/plain": [
       "AUDIT   2016/04/21 18:20:19 Task:wget         Executing command: wget ftp://ftp.ensembl.org/pub/release-67/fasta/homo_sapiens/dna/Homo_sapiens.GRCh37.67.dna_rm.chromosome.Y.fa.gz -O chry.fa.gz.tmp\n",
       "AUDIT   2016/04/21 18:20:20 Task:ungzip       Executing command: gunzip -c chry.fa.gz > chry.fa.tmp\n",
       "AUDIT   2016/04/21 18:20:21 FileSplitter      Now processing input file  chry.fa ...\n",
       "AUDIT   2016/04/21 18:20:21 FileSplitter      Created split file chry.fa.split_1\n",
       "AUDIT   2016/04/21 18:20:21 Task:linecount    Executing command: wc -l chry.fa.split_1 | awk '{ print $1 }' > chry.fa.split_1.linecnt.tmp\n",
       "AUDIT   2016/04/21 18:20:21 FileSplitter      Created split file chry.fa.split_2\n",
       "AUDIT   2016/04/21 18:20:21 Task:linecount    Executing command: wc -l chry.fa.split_2 | awk '{ print $1 }' > chry.fa.split_2.linecnt.tmp\n",
       "AUDIT   2016/04/21 18:20:21 FileSplitter      Created split file chry.fa.split_3\n",
       "AUDIT   2016/04/21 18:20:21 Task:linecount    Executing command: wc -l chry.fa.split_3 | awk '{ print $1 }' > chry.fa.split_3.linecnt.tmp\n",
       "AUDIT   2016/04/21 18:20:21 FileSplitter      Created split file chry.fa.split_4\n",
       "AUDIT   2016/04/21 18:20:21 Task:linecount    Executing command: wc -l chry.fa.split_4 | awk '{ print $1 }' > chry.fa.split_4.linecnt.tmp\n",
       "AUDIT   2016/04/21 18:20:22 FileSplitter      Created split file chry.fa.split_5\n",
       "AUDIT   2016/04/21 18:20:22 Task:linecount    Executing command: wc -l chry.fa.split_5 | awk '{ print $1 }' > chry.fa.split_5.linecnt.tmp\n",
       "AUDIT   2016/04/21 18:20:22 FileSplitter      Created split file chry.fa.split_6\n",
       "AUDIT   2016/04/21 18:20:22 Task:linecount    Executing command: wc -l chry.fa.split_6 | awk '{ print $1 }' > chry.fa.split_6.linecnt.tmp\n",
       "AUDIT   2016/04/21 18:20:22 FileSplitter      Created split file chry.fa.split_7\n",
       "AUDIT   2016/04/21 18:20:22 Task:linecount    Executing command: wc -l chry.fa.split_7 | awk '{ print $1 }' > chry.fa.split_7.linecnt.tmp\n",
       "AUDIT   2016/04/21 18:20:22 FileSplitter      Created split file chry.fa.split_8\n",
       "AUDIT   2016/04/21 18:20:22 Task:linecount    Executing command: wc -l chry.fa.split_8 | awk '{ print $1 }' > chry.fa.split_8.linecnt.tmp\n",
       "AUDIT   2016/04/21 18:20:22 FileSplitter      Created split file chry.fa.split_9\n",
       "AUDIT   2016/04/21 18:20:22 Task:linecount    Executing command: wc -l chry.fa.split_9 | awk '{ print $1 }' > chry.fa.split_9.linecnt.tmp\n"
      ]
     },
     "execution_count": 2,
     "metadata": {},
     "output_type": "execute_result"
    }
   ],
   "source": [
    "// ------------------------------------------------------------------------\n",
    "// INITIALIZE TASKS\n",
    "// ------------------------------------------------------------------------\n",
    "\n",
    "// Download a zipped Chromosome Y fasta file\n",
    "fasta_url := \"ftp://ftp.ensembl.org/pub/release-67/fasta/homo_sapiens/dna/Homo_sapiens.GRCh37.67.dna_rm.chromosome.Y.fa.gz\"\n",
    "wget := scipipe.Shell(\"wget\", \"wget \"+fasta_url+\" -O {o:chry_zipped}\")\n",
    "wget.SetPathFormatStatic(\"chry_zipped\", \"chry.fa.gz\")\n",
    "\n",
    "// Ungzip the fasta file\n",
    "unzip := scipipe.Shell(\"ungzip\", \"gunzip -c {i:gzipped} > {o:ungzipped}\")\n",
    "unzip.SetPathFormatReplace(\"gzipped\", \"ungzipped\", \".gz\", \"\")\n",
    "\n",
    "// Split the fasta file in to parts with 100000 lines in each\n",
    "linesPerSplit := 100000\n",
    "split := scipipe.NewFileSplitter(linesPerSplit)\n",
    "\n",
    "// Count lines in the fasta file\n",
    "lncnt := scipipe.Shell(\"linecount\", \"wc -l {i:infile} | awk '{ print $1 }' > {o:linecount}\")\n",
    "lncnt.SetPathFormatExtend(\"infile\", \"linecount\", \".linecnt\")\n",
    "\n",
    "asink := scipipe.NewSink()\n",
    "\n",
    "// ------------------------------------------------------------------------\n",
    "// CONNECT DEPENDENCIES\n",
    "// ------------------------------------------------------------------------\n",
    "\n",
    "unzip.InPorts[\"gzipped\"] = wget.OutPorts[\"chry_zipped\"]\n",
    "split.InFile = unzip.OutPorts[\"ungzipped\"]\n",
    "lncnt.InPorts[\"infile\"] = split.OutSplitFile\n",
    "asink.In = lncnt.OutPorts[\"linecount\"]\n",
    "\n",
    "piperunner := scipipe.NewPipelineRunner()\n",
    "piperunner.AddProcesses(wget, unzip, split, lncnt, asink)\n",
    "\n",
    "// ------------------------------------------------------------------------\n",
    "// RUN PIPELINE\n",
    "// ------------------------------------------------------------------------\n",
    "\n",
    "piperunner.Run()"
   ]
  },
  {
   "cell_type": "code",
   "execution_count": null,
   "metadata": {
    "collapsed": true
   },
   "outputs": [],
   "source": []
  }
 ],
 "metadata": {
  "kernelspec": {
   "display_name": "Golang",
   "language": "go",
   "name": "gophernotes"
  },
  "language_info": {
   "name": "go"
  }
 },
 "nbformat": 4,
 "nbformat_minor": 0
}
