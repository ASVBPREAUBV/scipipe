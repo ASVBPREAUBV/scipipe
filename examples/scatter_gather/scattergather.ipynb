{
 "cells": [
  {
   "cell_type": "code",
   "execution_count": 4,
   "metadata": {
    "collapsed": true
   },
   "outputs": [],
   "source": [
    ":import \"github.com/scipipe/scipipe\"\n",
    ":import \"fmt\""
   ]
  },
  {
   "cell_type": "code",
   "execution_count": 3,
   "metadata": {
    "collapsed": false
   },
   "outputs": [
    {
     "ename": "Error",
     "evalue": "exit status 2",
     "output_type": "error",
     "traceback": [
      "# command-line-arguments\n/tmp/615085500/gore_session.go:12: undefined: scipipe in scipipe.Shell\n/tmp/615085500/gore_session.go:14: undefined: scipipe in scipipe.Shell\n/tmp/615085500/gore_session.go:17: undefined: scipipe in scipipe.NewFileSplitter\n/tmp/615085500/gore_session.go:18: undefined: scipipe in scipipe.NewFanOut\n/tmp/615085500/gore_session.go:20: undefined: scipipe in scipipe.Shell\n/tmp/615085500/gore_session.go:22: undefined: scipipe in scipipe.Shell\n/tmp/615085500/gore_session.go:24: undefined: scipipe in scipipe.NewConcatenator\n/tmp/615085500/gore_session.go:25: undefined: scipipe in scipipe.NewConcatenator\n/tmp/615085500/gore_session.go:27: undefined: scipipe in scipipe.Shell\n/tmp/615085500/gore_session.go:29: undefined: scipipe\n/tmp/615085500/gore_session.go:29: too many errors\n"
     ]
    }
   ],
   "source": [
    "// === INITIALIZE TASKS =======================================================================\n",
    "\n",
    "// Download a zipped Chromosome Y fasta file\n",
    "fastaURL := \"ftp://ftp.ensembl.org/pub/release-84/fasta/homo_sapiens/dna/Homo_sapiens.GRCh38.dna.chromosome.Y.fa.gz\"\n",
    "wget := scipipe.Shell(\"wget\", \"wget \"+fastaURL+\" -O {o:chry_zipped}\")\n",
    "wget.SetPathStatic(\"chry_zipped\", \"chry.fa.gz\")\n",
    "\n",
    "// Ungzip the fasta file\n",
    "unzip := scipipe.Shell(\"ungzip\", \"gunzip -c {i:gzipped} > {o:ungzipped}\")\n",
    "unzip.SetPathReplace(\"gzipped\", \"ungzipped\", \".gz\", \"\")\n",
    "\n",
    "// Split the fasta file in to parts with 100000 lines in each\n",
    "linesPerSplit := 100000\n",
    "split := scipipe.NewFileSplitter(linesPerSplit)\n",
    "\n",
    "// Create a 2-way multiplexer that can be used to provide the same\n",
    "// file target to two downstream processes\n",
    "dupl := scipipe.NewFanOut()\n",
    "\n",
    "// Count GC & AT characters in the fasta file\n",
    "charCountCommand := \"cat {i:infile} | fold -w 1 | grep '[%s]' | wc -l | awk '{ print $1 }' > {o:%s}\"\n",
    "gccnt := scipipe.Shell(\"gccount\", fmt.Sprintf(charCountCommand, \"GC\", \"gccount\"))\n",
    "gccnt.SetPathExtend(\"infile\", \"gccount\", \".gccnt\")\n",
    "atcnt := scipipe.Shell(\"atcount\", fmt.Sprintf(charCountCommand, \"AT\", \"atcount\"))\n",
    "atcnt.SetPathExtend(\"infile\", \"atcount\", \".atcnt\")\n",
    "\n",
    "// Concatenate GC & AT counts\n",
    "gccat := scipipe.NewConcatenator(\"gccounts.txt\")\n",
    "atcat := scipipe.NewConcatenator(\"atcounts.txt\")\n",
    "\n",
    "// Sum up the GC & AT counts on the concatenated file\n",
    "sumCommand := \"awk '{ SUM += $1 } END { print SUM }' {i:in} > {o:sum}\"\n",
    "gcsum := scipipe.Shell(\"gcsum\", sumCommand)\n",
    "gcsum.SetPathExtend(\"in\", \"sum\", \".sum\")\n",
    "atsum := scipipe.Shell(\"atsum\", sumCommand)\n",
    "atsum.SetPathExtend(\"in\", \"sum\", \".sum\")\n",
    "\n",
    "// Finally, calculate the ratio between GC chars, vs. GC+AT chars\n",
    "gcrat := scipipe.Shell(\"gcratio\", \"gc=$(cat {i:gcsum}); at=$(cat {i:atsum}); calc \\\"$gc/($gc+$at)\\\" > {o:gcratio}\")\n",
    "gcrat.SetPathStatic(\"gcratio\", \"gcratio.txt\")\n",
    "\n",
    "// A sink, to drive the network\n",
    "asink := scipipe.NewSink()\n",
    "\n",
    "// === CONNECT DEPENDENCIES ===================================================================\n",
    "\n",
    "unzip.InPorts[\"gzipped\"] = wget.OutPorts[\"chry_zipped\"]\n",
    "split.InFile = unzip.OutPorts[\"ungzipped\"]\n",
    "dupl.InFile = split.OutSplitFile\n",
    "gccnt.InPorts[\"infile\"] = dupl.GetOutPort(\"gccnt\")\n",
    "atcnt.InPorts[\"infile\"] = dupl.GetOutPort(\"atcnt\")\n",
    "gccat.In = gccnt.OutPorts[\"gccount\"]\n",
    "atcat.In = atcnt.OutPorts[\"atcount\"]\n",
    "gcsum.InPorts[\"in\"] = gccat.Out\n",
    "atsum.InPorts[\"in\"] = atcat.Out\n",
    "gcrat.InPorts[\"gcsum\"] = gcsum.OutPorts[\"sum\"]\n",
    "gcrat.InPorts[\"atsum\"] = atsum.OutPorts[\"sum\"]\n",
    "asink.In = gcrat.OutPorts[\"gcratio\"]\n",
    "\n",
    "// === RUN PIPELINE ===========================================================================\n",
    "\n",
    "piperunner := scipipe.NewPipelineRunner()\n",
    "piperunner.AddProcesses(wget, unzip, split, dupl, gccnt, atcnt, gccat, atcat, gcsum, atsum, gcrat, asink)\n",
    "piperunner.Run()"
   ]
  },
  {
   "cell_type": "code",
   "execution_count": null,
   "metadata": {
    "collapsed": true
   },
   "outputs": [],
   "source": []
  }
 ],
 "metadata": {
  "kernelspec": {
   "display_name": "Golang",
   "language": "go",
   "name": "gophernotes"
  },
  "language_info": {
   "name": "go"
  }
 },
 "nbformat": 4,
 "nbformat_minor": 0
}
