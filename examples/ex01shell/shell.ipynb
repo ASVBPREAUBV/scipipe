{
 "cells": [
  {
   "cell_type": "code",
   "execution_count": 7,
   "metadata": {
    "collapsed": true
   },
   "outputs": [],
   "source": [
    ":import github.com/scipipe/scipipe"
   ]
  },
  {
   "cell_type": "code",
   "execution_count": 8,
   "metadata": {
    "collapsed": false
   },
   "outputs": [
    {
     "data": {
      "text/plain": [
       "AUDIT   2016/04/26 16:25:34 Task:fooer        Executing command: echo foo > foo.txt.tmp\n",
       "AUDIT   2016/04/26 16:25:34 Task:foo2bar      Executing command: sed 's/foo/bar/g' foo.txt > foo.txt.bar.txt.tmp\n",
       "AUDIT   2016/04/26 16:25:34 Task:fooer        Output file already exists: foo.txt, so skipping... [echo foo > foo.txt.tmp]\n",
       "AUDIT   2016/04/26 16:25:34 Task:foo2bar      Output file already exists: foo.txt.bar.txt, so skipping... [sed 's/foo/bar/g' foo.txt > foo.txt.bar.txt.tmp]\n",
       "AUDIT   2016/04/26 16:25:34 Task:fooer        Output file already exists: foo.txt, so skipping... [echo foo > foo.txt.tmp]\n",
       "AUDIT   2016/04/26 16:25:34 Task:foo2bar      Output file already exists: foo.txt.bar.txt, so skipping... [sed 's/foo/bar/g' foo.txt > foo.txt.bar.txt.tmp]\n"
      ]
     },
     "execution_count": 8,
     "metadata": {},
     "output_type": "execute_result"
    }
   ],
   "source": [
    "// Initialize processes\n",
    "fooWriter := scipipe.Shell(\"fooer\", \"echo foo > {o:foo}\")\n",
    "fooWriter.SetPathFormatStatic(\"foo\", \"foo.txt\")\n",
    "\n",
    "fooToBarReplacer := scipipe.Shell(\"foo2bar\", \"sed 's/foo/bar/g' {i:foo} > {o:bar}\")\n",
    "fooToBarReplacer.SetPathFormatExtend(\"foo\", \"bar\", \".bar.txt\")\n",
    "\n",
    "aSink := scipipe.NewSink()\n",
    "\n",
    "// Connect workflow dependency network\n",
    "// ... from out-ports to in-ports ...\n",
    "fooToBarReplacer.InPorts[\"foo\"] = fooWriter.OutPorts[\"foo\"]\n",
    "aSink.In = fooToBarReplacer.OutPorts[\"bar\"]\n",
    "\n",
    "// Set up a pipeline runner and run the pipeline ...\n",
    "pipeRunner := scipipe.NewPipelineRunner()\n",
    "pipeRunner.AddProcesses(fooWriter, fooToBarReplacer, aSink)\n",
    "pipeRunner.Run()"
   ]
  },
  {
   "cell_type": "code",
   "execution_count": null,
   "metadata": {
    "collapsed": true
   },
   "outputs": [],
   "source": []
  }
 ],
 "metadata": {
  "kernelspec": {
   "display_name": "Golang",
   "language": "go",
   "name": "gophernotes"
  },
  "language_info": {
   "name": "go"
  }
 },
 "nbformat": 4,
 "nbformat_minor": 0
}
